{
 "cells": [
  {
   "cell_type": "code",
   "execution_count": 1,
   "metadata": {},
   "outputs": [
    {
     "name": "stdout",
     "output_type": "stream",
     "text": [
      "Testing MCP Model for AND Gate:\n",
      "Input: (0, 0) => Output: 0\n",
      "Input: (0, 1) => Output: 0\n",
      "Input: (1, 0) => Output: 0\n",
      "Input: (1, 1) => Output: 1\n"
     ]
    }
   ],
   "source": [
    "def mcp_and_gate(x1, x2):\n",
    "    w1 = 1\n",
    "    w2 = 1\n",
    "\n",
    "    weighted_sum = w1 * x1 + w2 * x2\n",
    "    \n",
    "    threshold = 2\n",
    "    \n",
    "    return 1 if weighted_sum >= threshold else 0\n",
    "\n",
    "def test_mcp_and_gate():\n",
    "    print(\"Testing MCP Model for AND Gate:\")\n",
    "    test_cases = [\n",
    "        (0, 0),\n",
    "        (0, 1),\n",
    "        (1, 0),\n",
    "        (1, 1)\n",
    "    ]\n",
    "    \n",
    "    for x1, x2 in test_cases:\n",
    "        output = mcp_and_gate(x1, x2)\n",
    "        print(f\"Input: ({x1}, {x2}) => Output: {output}\")\n",
    "\n",
    "test_mcp_and_gate()\n",
    "\n"
   ]
  },
  {
   "cell_type": "code",
   "execution_count": 2,
   "metadata": {},
   "outputs": [
    {
     "name": "stdout",
     "output_type": "stream",
     "text": [
      "Testing MCP Model for OR Gate:\n",
      "Input: (0, 0) => Output: 0\n",
      "Input: (0, 1) => Output: 1\n",
      "Input: (1, 0) => Output: 1\n",
      "Input: (1, 1) => Output: 1\n"
     ]
    }
   ],
   "source": [
    "def mcp_or_gate(x1, x2):\n",
    "    w1 = 1\n",
    "    w2 = 1\n",
    "    \n",
    "    weighted_sum = w1 * x1 + w2 * x2\n",
    " \n",
    "    threshold = 1\n",
    "    \n",
    "    return 1 if weighted_sum >= threshold else 0\n",
    "\n",
    "\n",
    "def test_mcp_or_gate():\n",
    "    print(\"Testing MCP Model for OR Gate:\")\n",
    "    test_cases = [\n",
    "        (0, 0),\n",
    "        (0, 1),\n",
    "        (1, 0),\n",
    "        (1, 1)\n",
    "    ]\n",
    "    \n",
    "    for x1, x2 in test_cases:\n",
    "        output = mcp_or_gate(x1, x2)\n",
    "        print(f\"Input: ({x1}, {x2}) => Output: {output}\")\n",
    "\n",
    "\n",
    "test_mcp_or_gate()\n"
   ]
  },
  {
   "cell_type": "code",
   "execution_count": 4,
   "metadata": {},
   "outputs": [
    {
     "name": "stdout",
     "output_type": "stream",
     "text": [
      "Testing MCP Model for NOT Gate:\n",
      "Input: 0 => Output: 1\n",
      "Input: 1 => Output: 0\n"
     ]
    }
   ],
   "source": [
    "def mcp_not_gate(x):\n",
    "   \n",
    "    w = -1  \n",
    "    \n",
    "    weighted_sum = w * x\n",
    " \n",
    "    threshold = 0\n",
    "    \n",
    "    return 1 if weighted_sum >= threshold else 0\n",
    "\n",
    "def test_mcp_not_gate():\n",
    "    print(\"Testing MCP Model for NOT Gate:\")\n",
    "    test_cases = [0, 1]\n",
    "    \n",
    "    for x in test_cases:\n",
    "        output = mcp_not_gate(x)\n",
    "        print(f\"Input: {x} => Output: {output}\")\n",
    "\n",
    "# Run the test\n",
    "if __name__ == \"__main__\":\n",
    "    test_mcp_not_gate()\n"
   ]
  },
  {
   "cell_type": "code",
   "execution_count": 3,
   "metadata": {},
   "outputs": [
    {
     "name": "stdout",
     "output_type": "stream",
     "text": [
      "Testing MCP Model for NAND Gate:\n",
      "Input: (0, 0) => Output: 1\n",
      "Input: (0, 1) => Output: 1\n",
      "Input: (1, 0) => Output: 1\n",
      "Input: (1, 1) => Output: 0\n"
     ]
    }
   ],
   "source": [
    "def mcp_nand_gate(x1, x2):\n",
    "    w1 = 1\n",
    "    w2 = 1\n",
    "\n",
    "    weighted_sum = w1 * x1 + w2 * x2\n",
    "\n",
    "    threshold = 2\n",
    "\n",
    "    return 1 if weighted_sum < threshold else 0\n",
    "\n",
    "def test_mcp_nand_gate():\n",
    "    print(\"Testing MCP Model for NAND Gate:\")\n",
    "    test_cases = [\n",
    "        (0, 0),\n",
    "        (0, 1),\n",
    "        (1, 0),\n",
    "        (1, 1)\n",
    "    ]\n",
    "    \n",
    "    for x1, x2 in test_cases:\n",
    "        output = mcp_nand_gate(x1, x2)\n",
    "        print(f\"Input: ({x1}, {x2}) => Output: {output}\")\n",
    "\n",
    "\n",
    "test_mcp_nand_gate()\n"
   ]
  },
  {
   "cell_type": "code",
   "execution_count": 6,
   "metadata": {},
   "outputs": [
    {
     "name": "stdout",
     "output_type": "stream",
     "text": [
      "Testing MCP Model for NOR Gate:\n",
      "Input: (0, 0) => Output: 1\n",
      "Input: (0, 1) => Output: 0\n",
      "Input: (1, 0) => Output: 0\n",
      "Input: (1, 1) => Output: 0\n"
     ]
    }
   ],
   "source": [
    "def mcp_nor_gate(x1, x2):\n",
    "\n",
    "    w1 = 1\n",
    "    w2 = 1\n",
    "\n",
    "    weighted_sum = w1 * x1 + w2 * x2\n",
    "\n",
    "    threshold = 1\n",
    "    \n",
    "    return 1 if weighted_sum < threshold else 0\n",
    "\n",
    "def test_mcp_nor_gate():\n",
    "    print(\"Testing MCP Model for NOR Gate:\")\n",
    "    test_cases = [\n",
    "        (0, 0),\n",
    "        (0, 1),\n",
    "        (1, 0),\n",
    "        (1, 1)\n",
    "    ]\n",
    "    \n",
    "    for x1, x2 in test_cases:\n",
    "        output = mcp_nor_gate(x1, x2)\n",
    "        print(f\"Input: ({x1}, {x2}) => Output: {output}\")\n",
    "\n",
    "\n",
    "test_mcp_nor_gate()\n"
   ]
  },
  {
   "cell_type": "code",
   "execution_count": null,
   "metadata": {},
   "outputs": [],
   "source": []
  }
 ],
 "metadata": {
  "kernelspec": {
   "display_name": "Python 3",
   "language": "python",
   "name": "python3"
  },
  "language_info": {
   "codemirror_mode": {
    "name": "ipython",
    "version": 3
   },
   "file_extension": ".py",
   "mimetype": "text/x-python",
   "name": "python",
   "nbconvert_exporter": "python",
   "pygments_lexer": "ipython3",
   "version": "3.12.4"
  }
 },
 "nbformat": 4,
 "nbformat_minor": 2
}
